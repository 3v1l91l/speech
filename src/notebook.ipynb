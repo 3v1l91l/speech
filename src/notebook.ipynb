{
 "cells": [
  {
   "cell_type": "code",
   "execution_count": 9,
   "metadata": {},
   "outputs": [],
   "source": [
    "import matplotlib.pyplot as plt\n",
    "import scipy\n",
    "from scipy import signal\n",
    "from scipy.io import wavfile\n",
    "import soundfile as sf\n",
    "import os\n",
    "import numpy as np\n",
    "from PIL import Image"
   ]
  },
  {
   "cell_type": "code",
   "execution_count": 10,
   "metadata": {},
   "outputs": [],
   "source": [
    "recognized_labels = 'yes no up down left right on off stop go silence unknown'.split()\n",
    "train_audio_path = '../input/train/audio/'\n",
    "train_pic_path = '../input/train/pic/'\n",
    "all_labels = [x for x in os.listdir(train_audio_path) if '_background_noise_' not in x]"
   ]
  },
  {
   "cell_type": "code",
   "execution_count": 77,
   "metadata": {},
   "outputs": [],
   "source": [
    "def wav2img(audio_path, pic_path, figsize=(4,4)):\n",
    "    \"\"\"\n",
    "    takes in wave file path\n",
    "    and the fig size. Default 4,4 will make images 288 x 288\n",
    "    \"\"\"\n",
    "    test_sound, samplerate = sf.read(audio_path)\n",
    "\n",
    "    fig = plt.figure(figsize=figsize)\n",
    "    S, freqs, bins, im = plt.specgram(test_sound, NFFT=1024, Fs=samplerate, noverlap=512)\n",
    "    if not os.path.exists(os.path.dirname(pic_path)):\n",
    "        try:\n",
    "            os.makedirs(os.path.dirname(pic_path))\n",
    "        except OSError as exc: # Guard against race condition\n",
    "            if exc.errno != errno.EEXIST:\n",
    "                raise\n",
    "    plt.axis('off')\n",
    "    fig.axes[0].get_xaxis().set_visible(False)\n",
    "    fig.axes[0].get_yaxis().set_visible(False)\n",
    "\n",
    "\n",
    "    fig.savefig(pic_path, bbox_inches='tight', pad_inches = -0.05)\n",
    "    plt.close()"
   ]
  },
  {
   "cell_type": "code",
   "execution_count": 78,
   "metadata": {},
   "outputs": [
    {
     "name": "stdout",
     "output_type": "stream",
     "text": [
      "bed\n"
     ]
    }
   ],
   "source": [
    "# print(all_labels[0])\n",
    "for label in all_labels[:1]:\n",
    "    print(label)\n",
    "    to_label = label\n",
    "    if label not in recognized_labels:\n",
    "        to_label = 'unknown'\n",
    "    all_files = [x for x in os.listdir(train_audio_path + label + '/') if '.wav' in x]\n",
    "    for file in all_files[:10]:\n",
    "        wav2img(train_audio_path + label + '/' + file, train_pic_path + to_label + '/' + (file.split('.wav'))[0] + '.png')"
   ]
  }
 ],
 "metadata": {
  "kernelspec": {
   "display_name": "Python 3",
   "language": "python",
   "name": "python3"
  },
  "language_info": {
   "codemirror_mode": {
    "name": "ipython",
    "version": 3
   },
   "file_extension": ".py",
   "mimetype": "text/x-python",
   "name": "python",
   "nbconvert_exporter": "python",
   "pygments_lexer": "ipython3",
   "version": "3.5.0"
  }
 },
 "nbformat": 4,
 "nbformat_minor": 2
}
